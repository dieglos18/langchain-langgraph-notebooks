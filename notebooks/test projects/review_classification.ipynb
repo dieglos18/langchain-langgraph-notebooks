{
 "cells": [
  {
   "cell_type": "markdown",
   "id": "01fdd5ad",
   "metadata": {},
   "source": [
    "### 🌌**Review Classification Example**\n",
    "\n",
    "In this notebook, we will build a sentiment classification system for movie reviews using OpenAI's GPT-4 and LangChain.\n",
    "\n",
    "**Objectives:**\n",
    "- Load and prepare a dataset of movie reviews  \n",
    "- Use a Language Model (LLM) to classify each review as `positive`, `negative`, or `neutral`  \n",
    "- Store and organize the classified reviews in a structured `DataFrame`  \n",
    "- Calculate and display statistics for each sentiment category  \n",
    "- Visualize the sentiment distribution using user-friendly and soft-colored plots  \n",
    "\n",
    "**Let's get started!**\n"
   ]
  },
  {
   "cell_type": "code",
   "execution_count": null,
   "id": "19ea8bc7",
   "metadata": {},
   "outputs": [],
   "source": [
    "%pip install langchain langchain_openai --upgrade"
   ]
  },
  {
   "cell_type": "code",
   "execution_count": null,
   "id": "4879b0cc",
   "metadata": {},
   "outputs": [],
   "source": [
    "from langchain_openai.chat_models import ChatOpenAI\n",
    "from langchain_core.messages import SystemMessage, HumanMessage\n",
    "import pandas as pd\n",
    "import matplotlib.pyplot as plt\n",
    "import os\n",
    "\n",
    "os.environ['OPENAI_API_KEY'] = \"YOUR_OPENAI_API_KEY\""
   ]
  },
  {
   "cell_type": "markdown",
   "id": "4c71e4a6",
   "metadata": {},
   "source": [
    "#### **List of Movie Reviews**\n",
    "This list contains a variety of positive, negative, and neutral movie reviews to be classified by the language model."
   ]
  },
  {
   "cell_type": "code",
   "execution_count": null,
   "id": "82c9b7e2",
   "metadata": {},
   "outputs": [],
   "source": [
    "reviews = [\n",
    "    {\"review\": \"This is a great movie. I will watch it again.\"},\n",
    "    {\"review\": \"I love this movie!\"},\n",
    "    {\"review\": \"I hate this movie.\"},\n",
    "    {\"review\": \"That was a waste of my time.\"},\n",
    "    {\"review\": \"I will never get that time back.\"},\n",
    "    {\"review\": \"This is a waste of money.\"},\n",
    "    {\"review\": \"I will never watch a movie by that director again.\"},\n",
    "    {\"review\": \"Absolutely fantastic! A must-watch.\"},\n",
    "    {\"review\": \"The storyline was captivating from start to finish.\"},\n",
    "    {\"review\": \"The acting was subpar and the plot was predictable.\"},\n",
    "    {\"review\": \"This movie stars an actor I know.\"},\n",
    "    {\"review\": \"I was on the edge of my seat the whole time.\"},\n",
    "    {\"review\": \"The cinematography was breathtaking.\"},\n",
    "    {\"review\": \"I wouldn't recommend this movie to anyone.\"},\n",
    "    {\"review\": \"A cinematic masterpiece!\"},\n",
    "    {\"review\": \"The characters lacked depth and the dialogue was cheesy.\"},\n",
    "    {\"review\": \"A rollercoaster of emotions. Loved every minute of it.\"},\n",
    "    {\"review\": \"I fell asleep halfway through.\"},\n",
    "    {\"review\": \"The hype around this movie was undeserved.\"},\n",
    "    {\"review\": \"A refreshing take on a classic story.\"},\n",
    "    {\"review\": \"The pacing was slow and it dragged on.\"},\n",
    "    {\"review\": \"A visual treat with a compelling narrative.\"},\n",
    "    {\"review\": \"I regret buying a ticket for this.\"},\n",
    "    {\"review\": \"I watched the movie last night.\"},\n",
    "    {\"review\": \"The soundtrack was the only good thing about this movie.\"},\n",
    "    {\"review\": \"A forgettable experience.\"},\n",
    "    {\"review\": \"I saw the trailer but haven’t watched the movie yet.\"},\n",
    "    {\"review\": \"This movie left a lasting impression on me.\"},\n",
    "    {\"review\": \"The movie is two hours long.\"},\n",
    "    {\"review\": \"It was a movie.\"},\n",
    "]"
   ]
  },
  {
   "cell_type": "markdown",
   "id": "71bac427",
   "metadata": {},
   "source": [
    "#### **Initializing the Model and System Prompt**\n",
    "We start by initializing the ChatOpenAI object using the `gpt-4o-mini` model. This model will handle the task of classifying the sentiment of each movie review.\n",
    "\n",
    "Next, we define a `SystemMessage`, which acts as the instruction prompt for the model. This message tells the model exactly what to do:\n",
    "classify each review as **_positive_**, **_negative_**, or **_neutral_**, and return only one of those three words. This ensures that the output is consistent and easy to process in the next steps."
   ]
  },
  {
   "cell_type": "code",
   "execution_count": null,
   "id": "dafc7a9f",
   "metadata": {},
   "outputs": [],
   "source": [
    "chat = ChatOpenAI(model=\"gpt-4o-mini\")\n",
    "\n",
    "system_prompt = SystemMessage(content=\"\"\"\n",
    "You are responsible for classification of movie reviews. \n",
    "Please classify the following review as one of the following sentiments:\n",
    "    positive\n",
    "    negative\n",
    "    neutral\n",
    "\n",
    "Only return one of the three words: positive, negative, or neutral.\n",
    "\"\"\")"
   ]
  },
  {
   "cell_type": "markdown",
   "id": "293e4a1a",
   "metadata": {},
   "source": [
    "#### **Classifying Each Review**\n",
    "\n",
    "In this step, we iterate through a list of movie reviews and classify each one using the model we initialized earlier.\n",
    "\n",
    "For each review:\n",
    "\n",
    "- We print the review text to the console (useful for debugging or tracking progress).\n",
    "- We send both the system prompt and the actual review (as a `HumanMessage`) to the model using `chat.invoke(...)`.\n",
    "- The model returns a response containing the predicted sentiment, which we clean and convert to lowercase.\n",
    "- We check if the response is one of the expected values: **`positive`**, **`negative`**, or **`neutral`**. If not, we raise an exception to catch unexpected results.\n",
    "- Finally, we store the original review and its classified sentiment in a list for later use.\n",
    "\n",
    "This process ensures that each review is classified accurately and that the results are structured consistently.\n"
   ]
  },
  {
   "cell_type": "code",
   "execution_count": null,
   "id": "f1db8eec",
   "metadata": {},
   "outputs": [],
   "source": [
    "classified_reviews = []\n",
    "\n",
    "for review in reviews:\n",
    "    print(f\"Classifying: {review['review']}\")\n",
    "    response = chat.invoke([\n",
    "        system_prompt,\n",
    "        HumanMessage(content=review['review'])\n",
    "    ])\n",
    "    label = response.content.strip().lower()\n",
    "    if label not in ['positive', 'negative', 'neutral']:\n",
    "        raise Exception(f\"Unexpected classification: {label}\")\n",
    "    classified_reviews.append({\n",
    "        'review': review['review'],\n",
    "        'sentiment': label\n",
    "    })"
   ]
  },
  {
   "cell_type": "markdown",
   "id": "aaa986f8",
   "metadata": {},
   "source": [
    "#### **Analyzing the Results**\n",
    "\n",
    "After classifying all the reviews, we convert the list of results into a `Pandas DataFrame`. This makes it easier to analyze and visualize the data.\n",
    "\n",
    "- `pd.DataFrame(classified_reviews)` creates a table where each row contains a movie review and its corresponding sentiment.\n",
    "- `value_counts()` is used to count how many times each sentiment (positive, negative, neutral) appears in the dataset.\n",
    "- `value_counts(normalize=True) * 100` calculates the percentage distribution of each sentiment category, giving us insight into the overall sentiment trends in the reviews.\n",
    "\n",
    "This analysis step helps summarize and validate the performance of the classification task."
   ]
  },
  {
   "cell_type": "code",
   "execution_count": null,
   "id": "87640ebc",
   "metadata": {},
   "outputs": [],
   "source": [
    "df = pd.DataFrame(classified_reviews)\n",
    "\n",
    "counts = df['sentiment'].value_counts()\n",
    "percentages = df['sentiment'].value_counts(normalize=True) * 100"
   ]
  },
  {
   "cell_type": "markdown",
   "id": "1e561308",
   "metadata": {},
   "source": [
    "#### **Visualizing the Sentiment Distribution**\n",
    "\n",
    "To better understand the overall sentiment distribution, we create a pie chart using Matplotlib.\n",
    "\n",
    "- We define a custom `color_map` to assign a distinct and soft color to each sentiment: green for positive, red for negative, and gray for neutral.\n",
    "- The `colors` list maps the sentiment labels to their corresponding colors in the same order as the `counts` data.\n",
    "- We use `plt.pie(...)` to generate the pie chart, showing the percentage of each sentiment category.\n",
    "- The chart includes labels and percentage values (`autopct='%1.1f%%'`) for readability.\n",
    "- Finally, we add a title and use `plt.tight_layout()` to ensure the layout fits well in the output window.\n",
    "\n",
    "This visualization helps us quickly grasp the sentiment balance in the dataset."
   ]
  },
  {
   "cell_type": "code",
   "execution_count": null,
   "id": "3ad271f1",
   "metadata": {},
   "outputs": [],
   "source": [
    "color_map = {\n",
    "    'positive': '#A3D9A5',  # soft green\n",
    "    'negative': '#F5A9A9',  # soft red\n",
    "    'neutral': '#D0D0D0'    # soft gray\n",
    "}\n",
    "colors = [color_map[sent] for sent in counts.index]\n",
    "\n",
    "plt.style.use('default')\n",
    "plt.figure(figsize=(6, 6))\n",
    "plt.pie(counts, labels=counts.index, autopct='%1.1f%%', colors=colors)\n",
    "plt.title('Sentiment Distribution')\n",
    "plt.tight_layout()\n",
    "plt.show()"
   ]
  }
 ],
 "metadata": {
  "language_info": {
   "name": "python"
  }
 },
 "nbformat": 4,
 "nbformat_minor": 5
}
