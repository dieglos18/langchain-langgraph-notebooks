{
 "cells": [
  {
   "cell_type": "markdown",
   "id": "b4c3ef96",
   "metadata": {},
   "source": [
    "### **Hello World**\n",
    "\n",
    "Welcome to your first interaction with **LangChain**!  \n",
    "This simple notebook will help you get started by showing how to send a basic message to a language model and receive a response — the classic **\"Hello World\"** of AI workflows.\n",
    "\n",
    "This example uses the OpenAI `ChatOpenAI` model to demonstrate how easy it is to integrate conversational AI using LangChain’s intuitive tools.\n",
    "\n",
    "> **Note:** Before running this notebook, make sure you’ve installed all the necessary dependencies by running:\n",
    ">\n",
    "> ```bash\n",
    "> pip install -r requirements.txt\n",
    "> ```\n",
    "\n",
    "Let’s get started!\n"
   ]
  },
  {
   "cell_type": "code",
   "execution_count": null,
   "id": "e6dd810a",
   "metadata": {},
   "outputs": [],
   "source": [
    "from getpass import getpass\n",
    "from langchain.chat_models import ChatOpenAI\n",
    "from langchain.schema import HumanMessage\n",
    "import os\n",
    "\n",
    "# Step 1: we securely request the API key\n",
    "OPENAI_API_KEY = getpass(\"🔐 Enter your OpenAI API Key: \")\n",
    "os.environ[\"OPENAI_API_KEY\"] = OPENAI_API_KEY\n",
    "\n",
    "# Step 2: Create a model instance\n",
    "chat = ChatOpenAI(model=\"gpt-4o-mini\")\n",
    "\n",
    "# Step 3: Create a message and get a response\n",
    "message = HumanMessage(content=\"Hi, can you explain what LangChain is?\")\n",
    "response = chat.invoke([message])\n",
    "\n",
    "# Step 4: Print the response\n",
    "print(\"🤖 Model response:\")\n",
    "print(response.content)\n"
   ]
  }
 ],
 "metadata": {
  "language_info": {
   "name": "python"
  }
 },
 "nbformat": 4,
 "nbformat_minor": 5
}
