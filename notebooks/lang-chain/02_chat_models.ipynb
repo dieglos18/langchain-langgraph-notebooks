{
 "cells": [
  {
   "cell_type": "markdown",
   "id": "7741c329",
   "metadata": {},
   "source": [
    "### 🌌 **Chat Models**\n",
    "\n",
    "Welcome! In this notebook you will learn what *Chat Models* are in `LangChain` and how to use them to create automatic conversations.\n",
    "**Let’s get started!**"
   ]
  },
  {
   "cell_type": "code",
   "execution_count": null,
   "id": "b74e661a",
   "metadata": {},
   "outputs": [],
   "source": [
    "%pip install -U langchain-openai"
   ]
  },
  {
   "cell_type": "code",
   "execution_count": null,
   "id": "32fa6423",
   "metadata": {},
   "outputs": [],
   "source": [
    "from getpass import getpass\n",
    "from langchain_openai import ChatOpenAI\n",
    "from langchain.schema import HumanMessage\n",
    "import os\n",
    "\n",
    "# Securely request the API key\n",
    "OPENAI_API_KEY = getpass(\"Enter your OpenAI API Key: \")\n",
    "os.environ[\"OPENAI_API_KEY\"] = OPENAI_API_KEY\n",
    "\n",
    "chat = ChatOpenAI(\n",
    "    temperature=0.7,  # How creative the responses will be\n",
    "    model_name=\"gpt-3.5-turbo\"  # Model we will use\n",
    ")\n",
    "\n",
    "# We send a message as if we were a human.\n",
    "response = chat.invoke([\n",
    "    HumanMessage(content=\"Hi, can you tell me a joke?\")\n",
    "])\n",
    "\n",
    "print(response.content)"
   ]
  },
  {
   "cell_type": "markdown",
   "id": "6f3dc425",
   "metadata": {},
   "source": [
    "### **What is `temperature`?**\n",
    "\n",
    "In language models like GPT-3.5 or GPT-4, the `temperature` parameter controls the randomness or creativity of the model's responses.\n",
    "\n",
    "- **Low Temperature (close to 0):**  \n",
    "  The model becomes more deterministic and focused. It tends to pick the most probable next word, making responses more precise, predictable, and repetitive.\n",
    "\n",
    "- **High Temperature (closer to 1):**  \n",
    "  The model becomes more random and creative. It explores less probable words, generating more varied, imaginative, and sometimes surprising responses.\n",
    "\n",
    "**Examples:**\n",
    "- `temperature=0.0`: The model behaves conservatively, providing very consistent and factual outputs.\n",
    "- `temperature=0.7`: A balance between creativity and reliability. Useful when you want natural, human-like conversation.\n",
    "- `temperature=1.0`: The model gets very creative, good for brainstorming ideas or writing fiction.<br><br>\n",
    "\n",
    "> **Tip:**  \n",
    "> If you want clear and accurate information, use a low temperature.  \n",
    "> If you want more creative, diverse outputs, use a higher temperature.\n"
   ]
  },
  {
   "cell_type": "markdown",
   "id": "0f61a047",
   "metadata": {},
   "source": []
  }
 ],
 "metadata": {
  "language_info": {
   "name": "python"
  }
 },
 "nbformat": 4,
 "nbformat_minor": 5
}
